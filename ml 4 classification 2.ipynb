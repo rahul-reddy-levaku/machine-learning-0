{
 "cells": [
  {
   "cell_type": "code",
   "execution_count": 2,
   "id": "bfff8ff8-bd7b-449e-a244-09f728e0faae",
   "metadata": {},
   "outputs": [],
   "source": [
    "weather=['Sunny','Sunny','Overcast','Rainy','Rainy','Rainy','Overcast','Sunny','Sunny', 'Rainy','Sunny','Overcast','Overcast','Rainy']"
   ]
  },
  {
   "cell_type": "code",
   "execution_count": 3,
   "id": "0de98864-7042-4b68-9251-0c84b3a09f6a",
   "metadata": {},
   "outputs": [],
   "source": [
    "temp=['Hot','Hot','Hot','Mild','Cool','Cool','Cool','Mild','Cool','Mild','Mild','Mild','Hot','Mild']"
   ]
  },
  {
   "cell_type": "code",
   "execution_count": 4,
   "id": "fb06203a-e4e4-4389-a1e1-471cafc19ef7",
   "metadata": {},
   "outputs": [],
   "source": [
    "play=['No','No','Yes','Yes','Yes','No','Yes','No','Yes','Yes','Yes','Yes','Yes','No']\n"
   ]
  },
  {
   "cell_type": "code",
   "execution_count": 5,
   "id": "cb20c7cf-2723-4131-9026-64f640652e5b",
   "metadata": {},
   "outputs": [],
   "source": [
    "from sklearn import preprocessing"
   ]
  },
  {
   "cell_type": "code",
   "execution_count": 6,
   "id": "d4fd2f17-59ab-4cea-ae85-c60f40c2a1c3",
   "metadata": {},
   "outputs": [],
   "source": [
    "le = preprocessing.LabelEncoder()"
   ]
  },
  {
   "cell_type": "code",
   "execution_count": 7,
   "id": "3954c3f7-ee58-4a29-ad48-22c1136d76ed",
   "metadata": {},
   "outputs": [
    {
     "name": "stdout",
     "output_type": "stream",
     "text": [
      "[2 2 0 1 1 1 0 2 2 1 2 0 0 1]\n"
     ]
    }
   ],
   "source": [
    "weather_encoded=le.fit_transform(weather)\n",
    "print(weather_encoded)"
   ]
  },
  {
   "cell_type": "code",
   "execution_count": 8,
   "id": "6c360bdf-cd4d-4067-bf9e-938afb80928e",
   "metadata": {},
   "outputs": [],
   "source": [
    "temp_encoded=le.fit_transform(temp)\n",
    "label=le.fit_transform(play)"
   ]
  },
  {
   "cell_type": "code",
   "execution_count": 9,
   "id": "7b789fac-f818-4a0c-bbb8-d56e17ec7b04",
   "metadata": {},
   "outputs": [],
   "source": [
    "features=list(zip(weather_encoded,temp_encoded))"
   ]
  },
  {
   "cell_type": "code",
   "execution_count": 10,
   "id": "2419e15b-1e39-4c7a-9ea9-4d65fcad4803",
   "metadata": {},
   "outputs": [
    {
     "name": "stdout",
     "output_type": "stream",
     "text": [
      "[1]\n"
     ]
    }
   ],
   "source": [
    "from sklearn.neighbors import KNeighborsClassifier\n",
    "model = KNeighborsClassifier(n_neighbors=3)\n",
    "model.fit(features,label)\n",
    "predicted = model.predict([[0,2]])\n",
    "print(predicted)"
   ]
  },
  {
   "cell_type": "code",
   "execution_count": 12,
   "id": "fa613589-79d7-4092-8136-cad595cf2dde",
   "metadata": {},
   "outputs": [
    {
     "name": "stdout",
     "output_type": "stream",
     "text": [
      "[1]\n"
     ]
    }
   ],
   "source": [
    "predicted = model.predict([[3,5]])\n",
    "print(predicted)"
   ]
  },
  {
   "cell_type": "code",
   "execution_count": null,
   "id": "1c449477-9310-4ea9-ad24-144209f96729",
   "metadata": {},
   "outputs": [],
   "source": []
  }
 ],
 "metadata": {
  "kernelspec": {
   "display_name": "Python 3 (ipykernel)",
   "language": "python",
   "name": "python3"
  },
  "language_info": {
   "codemirror_mode": {
    "name": "ipython",
    "version": 3
   },
   "file_extension": ".py",
   "mimetype": "text/x-python",
   "name": "python",
   "nbconvert_exporter": "python",
   "pygments_lexer": "ipython3",
   "version": "3.10.8"
  }
 },
 "nbformat": 4,
 "nbformat_minor": 5
}

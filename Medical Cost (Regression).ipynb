{
 "cells": [
  {
   "cell_type": "code",
   "execution_count": 20,
   "id": "285fce75-3a03-4879-bbb3-475c370e4ef4",
   "metadata": {},
   "outputs": [],
   "source": [
    "import numpy as np\n",
    "import pandas as pd\n",
    "import matplotlib.pyplot as plt\n",
    "import seaborn as sns\n",
    "\n",
    "from sklearn.preprocessing import LabelEncoder\n",
    "from sklearn.preprocessing import StandardScaler\n",
    "from sklearn.model_selection import train_test_split\n",
    "from sklearn.linear_model import LinearRegression\n",
    "from sklearn.ensemble import RandomForestRegressor\n",
    "from sklearn.preprocessing import PolynomialFeatures\n",
    "from sklearn.metrics import r2_score, mean_squared_error\n",
    "\n",
    "\n",
    "import warnings\n",
    "warnings.filterwarnings('ignore')\n",
    "plt.style.use('ggplot')\n",
    "plt.rcParams['figure.figsize'] = [12, 5]"
   ]
  },
  {
   "cell_type": "code",
   "execution_count": 21,
   "id": "92172500-ffd4-4946-a2b1-0a9437c9324e",
   "metadata": {},
   "outputs": [],
   "source": [
    "df = pd.read_csv(r\"C:\\Users\\pulla\\Downloads\\insurance.csv\")"
   ]
  },
  {
   "cell_type": "code",
   "execution_count": 22,
   "id": "6fccb44d-0df7-44ce-b120-3d131ed66250",
   "metadata": {},
   "outputs": [],
   "source": [
    "encoder = LabelEncoder()\n",
    "df['sex'] = encoder.fit_transform(df['sex'])\n",
    "df['smoker'] = encoder.fit_transform(df['smoker'])\n",
    "df['region'] = encoder.fit_transform(df['region'])"
   ]
  },
  {
   "cell_type": "code",
   "execution_count": 23,
   "id": "cffe251a-2c1c-424c-a6cc-86464e11711e",
   "metadata": {},
   "outputs": [],
   "source": [
    "x = df.drop(\"charges\", axis = 1)\n",
    "y = df[\"charges\"]\n",
    "\n",
    "x_train, x_test, y_train, y_test = train_test_split(x, y, test_size = 0.2, random_state = 42)\n",
    "scaler = StandardScaler()\n",
    "x_train_scaled = scaler.fit_transform(x_train)\n",
    "x_test_scaled = scaler.transform(x_test)\n",
    "lr = LinearRegression().fit(x_train_scaled, y_train)"
   ]
  },
  {
   "cell_type": "code",
   "execution_count": 24,
   "id": "2c512837-c85c-4a88-8543-b88c06d1d366",
   "metadata": {},
   "outputs": [
    {
     "name": "stdout",
     "output_type": "stream",
     "text": [
      "model accuracy on training set : 0.7417049283233981\n"
     ]
    }
   ],
   "source": [
    "print(f'model accuracy on training set : {lr.score(x_train_scaled, y_train)}')"
   ]
  },
  {
   "cell_type": "code",
   "execution_count": 25,
   "id": "892e047e-3dd7-4a2f-8172-add84ef74fcc",
   "metadata": {},
   "outputs": [
    {
     "name": "stdout",
     "output_type": "stream",
     "text": [
      "model accuracy on test set : 0.7833463107364537\n"
     ]
    }
   ],
   "source": [
    "print(f'model accuracy on test set : {lr.score(x_test_scaled, y_test)}')"
   ]
  },
  {
   "cell_type": "code",
   "execution_count": 27,
   "id": "2c757851-1e8e-4c40-af3d-3de45d9258aa",
   "metadata": {},
   "outputs": [],
   "source": [
    "pf = PolynomialFeatures(degree = 3)\n",
    "x_train_quad = pf.fit_transform(x_train_scaled)\n",
    "x_test_quad = pf.transform(x_test_scaled)\n",
    "lr_pf = LinearRegression().fit(x_train_quad, y_train)"
   ]
  },
  {
   "cell_type": "code",
   "execution_count": 28,
   "id": "84fbae03-2d81-4c16-9b6d-1150a6584723",
   "metadata": {},
   "outputs": [
    {
     "name": "stdout",
     "output_type": "stream",
     "text": [
      "model accuracy on training set : 0.8500275601828835\n",
      "model accuracy on test set : 0.8614310017069202\n"
     ]
    }
   ],
   "source": [
    "print(f'model accuracy on training set : {lr_pf.score(x_train_quad, y_train)}')\n",
    "print(f'model accuracy on test set : {lr_pf.score(x_test_quad, y_test)}')"
   ]
  },
  {
   "cell_type": "code",
   "execution_count": 29,
   "id": "1b3e97cd-d106-4a77-83e5-1d9094b318ee",
   "metadata": {},
   "outputs": [],
   "source": [
    "forest = RandomForestRegressor(n_estimators = 100,\n",
    "                               criterion = 'squared_error',\n",
    "                               max_depth = 4,\n",
    "                               random_state = 42,\n",
    "                               n_jobs = -1)\n",
    "forest.fit(x_train_scaled, y_train)\n",
    "forest_train_pred = forest.predict(x_train_scaled)\n",
    "forest_test_pred = forest.predict(x_test_scaled)"
   ]
  },
  {
   "cell_type": "code",
   "execution_count": 30,
   "id": "6a4c22c5-8b9a-414a-9d07-4a7529b22f2a",
   "metadata": {},
   "outputs": [
    {
     "name": "stdout",
     "output_type": "stream",
     "text": [
      "MSE train data: 18381787.853, Mse test data: 20037431.207\n"
     ]
    }
   ],
   "source": [
    "print('MSE train data: %.3f, Mse test data: %.3f' % (mean_squared_error(y_train, forest_train_pred), mean_squared_error(y_test, forest_test_pred)))"
   ]
  },
  {
   "cell_type": "code",
   "execution_count": 31,
   "id": "bc84dbdb-8d19-47de-97cc-964edaf7a4c9",
   "metadata": {},
   "outputs": [
    {
     "name": "stdout",
     "output_type": "stream",
     "text": [
      "R2 train data: 0.873, R2 test data: 0.871\n"
     ]
    }
   ],
   "source": [
    "print('R2 train data: %.3f, R2 test data: %.3f' % (r2_score(y_train, forest_train_pred), r2_score(y_test, forest_test_pred)))"
   ]
  },
  {
   "cell_type": "code",
   "execution_count": null,
   "id": "b415da28-6fd3-4a67-a383-99876f52a3f5",
   "metadata": {},
   "outputs": [],
   "source": []
  }
 ],
 "metadata": {
  "kernelspec": {
   "display_name": "Python 3 (ipykernel)",
   "language": "python",
   "name": "python3"
  },
  "language_info": {
   "codemirror_mode": {
    "name": "ipython",
    "version": 3
   },
   "file_extension": ".py",
   "mimetype": "text/x-python",
   "name": "python",
   "nbconvert_exporter": "python",
   "pygments_lexer": "ipython3",
   "version": "3.10.8"
  }
 },
 "nbformat": 4,
 "nbformat_minor": 5
}
